{
  "nbformat": 4,
  "nbformat_minor": 0,
  "metadata": {
    "colab": {
      "name": "homework2.ipynb",
      "provenance": [],
      "authorship_tag": "ABX9TyM5Jl0Yfr+JNFNQFVApicBC",
      "include_colab_link": true
    },
    "kernelspec": {
      "name": "python3",
      "display_name": "Python 3"
    }
  },
  "cells": [
    {
      "cell_type": "markdown",
      "metadata": {
        "id": "view-in-github",
        "colab_type": "text"
      },
      "source": [
        "<a href=\"https://colab.research.google.com/github/yilmazdikilitas/ylmz/blob/master/homework2.ipynb\" target=\"_parent\"><img src=\"https://colab.research.google.com/assets/colab-badge.svg\" alt=\"Open In Colab\"/></a>"
      ]
    },
    {
      "cell_type": "markdown",
      "metadata": {
        "id": "3epDIMPcme_9"
      },
      "source": [
        ""
      ]
    },
    {
      "cell_type": "markdown",
      "metadata": {
        "id": "EXCIt_1lmija"
      },
      "source": [
        "Ödev 2 : Kombinasyon\n",
        "\n",
        "Soru   :5 erkek ile 4 kız arasından 3 kişi seçilecektir.Seçilenlerin hepsinin kız veya erkek olma olasığı kaçtır ?\n",
        "\n",
        "Cevap  :\n",
        "\n",
        "Seçilecek 3 kişinin erkek olma ihtimali C(4,3)\n",
        "Seçilecek 3 kişinin kız olma ihtimali  C(5,3)\n",
        "\n",
        "Tüm evren C(9,3)\n",
        "\n",
        "Erkek olma ihtimaliyle kız olma ihtimalini toplayarak ve daha sonra tüm evrene bölerek sonuca ulaşırız.\n",
        "\n",
        "(C(4,3)+C(5,3))/C(9,3)"
      ]
    },
    {
      "cell_type": "code",
      "metadata": {
        "id": "GQVibAxknZwU",
        "colab": {
          "base_uri": "https://localhost:8080/",
          "height": 136
        },
        "outputId": "5adbc759-ed0a-4448-d8a1-77e1ae4ad812"
      },
      "source": [
        "def faktoriyel(sayi):\n",
        "    if sayi==1:\n",
        "        return 1\n",
        "    else:\n",
        "        return sayi * faktoriyel(sayi-1) \n",
        "\n",
        "\n",
        "def kombinasyon(n,r):\n",
        "  return faktoriyel(n)/(faktoriyel(n-r)*faktoriyel(r))\n",
        "\n",
        "erkekolmaihtimali = kombinasyon(4,3)\n",
        "print(\"Erkek olma ihtimali:\",erkekolmaihtimali)\n",
        "\n",
        "kizolmaihtimali = kombinasyon(5,3)\n",
        "print(\"\\nkiz olma ihtimali:\",kizolmaihtimali)\n",
        "\n",
        "tumuzay = kombinasyon(9,3)\n",
        "print(\"\\ntumuzay:\",tumuzay)\n",
        "\n",
        "bulunansonuc = (erkekolmaihtimali+kizolmaihtimali)/tumuzay\n",
        "print(\"\\nbulunan sonuc:\",bulunansonuc)"
      ],
      "execution_count": null,
      "outputs": [
        {
          "output_type": "stream",
          "text": [
            "Erkek olma ihtimali: 4.0\n",
            "\n",
            "kiz olma ihtimali: 10.0\n",
            "\n",
            "tumuzay: 84.0\n",
            "\n",
            "bulunan sonuc: 0.16666666666666666\n"
          ],
          "name": "stdout"
        }
      ]
    }
  ]
}