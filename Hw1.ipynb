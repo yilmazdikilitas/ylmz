{
  "nbformat": 4,
  "nbformat_minor": 0,
  "metadata": {
    "colab": {
      "name": "Hw1.ipynb",
      "provenance": [],
      "collapsed_sections": [],
      "authorship_tag": "ABX9TyOnEqZBoSA1XFWrbDiyvIOG",
      "include_colab_link": true
    },
    "kernelspec": {
      "name": "python3",
      "display_name": "Python 3"
    }
  },
  "cells": [
    {
      "cell_type": "markdown",
      "metadata": {
        "id": "view-in-github",
        "colab_type": "text"
      },
      "source": [
        "<a href=\"https://colab.research.google.com/github/yilmazdikilitas/ylmz/blob/master/Hw1.ipynb\" target=\"_parent\"><img src=\"https://colab.research.google.com/assets/colab-badge.svg\" alt=\"Open In Colab\"/></a>"
      ]
    },
    {
      "cell_type": "code",
      "metadata": {
        "id": "JgR2n2bb-yAf",
        "outputId": "4756ccf4-0219-4387-ffa5-7efb11d00280",
        "colab": {
          "base_uri": "https://localhost:8080/"
        }
      },
      "source": [
        "import numpy as np\n",
        "import random\n",
        "#Soru bir kutuda 10 tane beyaz,20 tane kırmızı ve 30 tane yeşil top vardır.\n",
        "#Çektiğimiz topu bir daha kutuya koyarak 5 top çekeriz\n",
        "#3 beyaz veya 2 kırmızı,veya 5ide aynı renk olacak şekilde çekme ihtimalimiz nedir\n",
        "d={}\n",
        "\n",
        "for i in range(60):\n",
        "\n",
        "    if i < 10:\n",
        "      d[i]='beyaz'\n",
        "\n",
        "    elif i>9 and i<30:\n",
        "      d[i]='kirmizi'\n",
        "\n",
        "    else:\n",
        "      d[i]='yesil'\n",
        "#Değişkenleri initaialize ediyoruz\n",
        "simulasyonsayisi=100000\n",
        "birincisoru = 0\n",
        "ikincisoru = 0\n",
        "\n",
        "for i in range(simulasyonsayisi):\n",
        "    #Seçeceğimiz liste\n",
        "    lst=[]\n",
        "\n",
        "    for i in range(5):\n",
        "      lst.append(d[random.randint(0,59)])\n",
        "\n",
        "    lst =np.array(lst)\n",
        "    #Çektiğimiz toplari buluyoruz\n",
        "    beyaz = sum(lst == 'beyaz')\n",
        "    kirmizi = sum(lst == 'kirmizi')\n",
        "    yesil = sum(lst == 'yesil')\n",
        "    #Kriterlerimizi karşılayınca 1 ve 2.soru için artirim yapiyoruz\n",
        "    if beyaz == 3 and kirmizi == 2:\n",
        "      birincisoru +=1\n",
        "\n",
        "    if kirmizi == 5 or beyaz == 5 or yesil == 5:\n",
        "      ikincisoru +=1\n",
        "\n",
        "print('3 beyaz ve 2 kirmizi çıkma ihtimali:',birincisoru/simulasyonsayisi*100,'%')\n",
        "print('Hepsinin ayni renk olma ihtimali',ikincisoru/simulasyonsayisi*100,'%')       "
      ],
      "execution_count": null,
      "outputs": [
        {
          "output_type": "stream",
          "name": "stdout",
          "text": [
            "3 beyaz ve 2 kirmizi çıkma ihtimali: 0.501 %\n",
            "Hepsinin ayni renk olma ihtimali 3.572 %\n"
          ]
        }
      ]
    }
  ]
}