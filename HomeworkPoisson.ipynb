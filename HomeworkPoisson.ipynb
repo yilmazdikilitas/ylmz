{
  "nbformat": 4,
  "nbformat_minor": 0,
  "metadata": {
    "colab": {
      "name": "HomeworkPoisson.ipynb",
      "provenance": [],
      "authorship_tag": "ABX9TyO0G1xixpYB+I6BdE2yp+1q",
      "include_colab_link": true
    },
    "kernelspec": {
      "name": "python3",
      "display_name": "Python 3"
    },
    "language_info": {
      "name": "python"
    }
  },
  "cells": [
    {
      "cell_type": "markdown",
      "metadata": {
        "id": "view-in-github",
        "colab_type": "text"
      },
      "source": [
        "<a href=\"https://colab.research.google.com/github/yilmazdikilitas/ylmz/blob/master/HomeworkPoisson.ipynb\" target=\"_parent\"><img src=\"https://colab.research.google.com/assets/colab-badge.svg\" alt=\"Open In Colab\"/></a>"
      ]
    },
    {
      "cell_type": "markdown",
      "source": [
        "500 sayfalık bir kitapta rasgele dağılmış 300 yanlış vardır. Herhangi bir sayfanın Tam 2 yanlış içermesi olasılığını bulunuz.\n",
        "\n",
        "500 sayfa olduğundan herhangi bir sayfada hata olma olasılığı p = 1/500 n = 300 dür\n",
        "\n",
        "λ=n*p=0,6\n",
        "\n"
      ],
      "metadata": {
        "id": "-eGxZEwkGjK9"
      }
    },
    {
      "cell_type": "code",
      "execution_count": 1,
      "metadata": {
        "colab": {
          "base_uri": "https://localhost:8080/"
        },
        "id": "fLVmtsYVGfaz",
        "outputId": "16905c79-39a1-4973-c48c-3dc401380579"
      },
      "outputs": [
        {
          "output_type": "stream",
          "name": "stdout",
          "text": [
            "Herhangi bir sayfanın Tam 2 yanlış içermesi olasılığı 0.09878609449692474\n"
          ]
        }
      ],
      "source": [
        "\n",
        "\n",
        "# Poisson dağılımı\n",
        "import math\n",
        "from pylab import*\n",
        "import numpy as np\n",
        "def poisson(n,p,k):\n",
        "  Lambda= n*p\n",
        "  P= ((Lambda**k)/math.factorial(k))*exp(-Lambda)\n",
        "  return P\n",
        "#toplam hata\n",
        "n=300\n",
        "#herhangi bir sayfada hata olma olasılığı\n",
        "p=1/500\n",
        "#istenen yanlış sayısı\n",
        "k=2\n",
        "print(\"Herhangi bir sayfanın Tam 2 yanlış içermesi olasılığı\",poisson(n,p,k))"
      ]
    }
  ]
}