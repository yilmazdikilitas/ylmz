{
  "nbformat": 4,
  "nbformat_minor": 0,
  "metadata": {
    "colab": {
      "name": "Homework3.ipynb",
      "provenance": [],
      "authorship_tag": "ABX9TyP6y4EwKntHyvwXGm9UUyO2",
      "include_colab_link": true
    },
    "kernelspec": {
      "name": "python3",
      "display_name": "Python 3"
    },
    "language_info": {
      "name": "python"
    }
  },
  "cells": [
    {
      "cell_type": "markdown",
      "metadata": {
        "id": "view-in-github",
        "colab_type": "text"
      },
      "source": [
        "<a href=\"https://colab.research.google.com/github/yilmazdikilitas/ylmz/blob/master/Homework3.ipynb\" target=\"_parent\"><img src=\"https://colab.research.google.com/assets/colab-badge.svg\" alt=\"Open In Colab\"/></a>"
      ]
    },
    {
      "cell_type": "markdown",
      "source": [
        "**SORU**\n",
        "\n",
        "40 kişilik bir öğrenci grubunda basket oynayanların sayısı 21, Tenis oynayanların sayısı da 12 dir.\n",
        "\n",
        "8 kişi her ikisini de oynadığına göre, bu gruptan rastgele seçilen birinin basketbol veya tenis oynama olasılığı kaçtır ?"
      ],
      "metadata": {
        "id": "7XTxFe49umzw"
      }
    },
    {
      "cell_type": "markdown",
      "source": [
        "**CEVAP**\n",
        "\n",
        "21 kişi basket oynuyorsa:P(B)=21/40\n",
        "\n",
        "12 kişi tenis oynuyorsa: P(T)=12/40\n",
        "\n",
        "8 kişi ise her ikisini oynuyorsa P(B∩T)=8/40\n",
        "\n",
        "o halde seçilen birinin basketbol veya tenis oynama olasılığı:\n",
        "\n",
        "P(BUT)=P(B)+P(T)-P(B∩T)=21/40+12/40-8/40=5/8\n",
        "\n",
        "\n"
      ],
      "metadata": {
        "id": "6ABDAYiVutX2"
      }
    },
    {
      "cell_type": "code",
      "execution_count": null,
      "metadata": {
        "colab": {
          "base_uri": "https://localhost:8080/"
        },
        "id": "uRMjYIXSgnY2",
        "outputId": "ace46a03-8269-424b-df9a-0d78a6939386"
      },
      "outputs": [
        {
          "output_type": "stream",
          "name": "stdout",
          "text": [
            "Seçilen Çürüğün Elma Olma İhtimali  0.625\n"
          ]
        }
      ],
      "source": [
        "Toplam = 40\n",
        "Basket = 21\n",
        "Tenis = 12\n",
        "Hepsi = 8\n",
        "\n",
        "Olasilik= Basket/Toplam + Tenis/Toplam - Hepsi/ Toplam\n",
        "\n",
        "print(\"Seçilen Çürüğün Elma Olma İhtimali \",str(Olasilik))"
      ]
    },
    {
      "cell_type": "markdown",
      "source": [
        "Kombinasyon\n",
        "\n",
        "Soru :5 erkek ile 4 kız arasından 3 kişi seçilecektir.Seçilenlerin hepsinin kız veya erkek olma olasığı kaçtır ?\n",
        "\n",
        "Cevap :\n",
        "\n",
        "Seçilecek 3 kişinin erkek olma ihtimali C(4,3) Seçilecek 3 kişinin kız olma ihtimali C(5,3)\n",
        "\n",
        "Tüm evren C(9,3)\n",
        "\n",
        "Erkek olma ihtimaliyle kız olma ihtimalini toplayarak ve daha sonra tüm evrene bölerek sonuca ulaşırız.\n",
        "\n",
        "(C(4,3)+C(5,3))/C(9,3)"
      ],
      "metadata": {
        "id": "qHkEpuaD0n7o"
      }
    },
    {
      "cell_type": "code",
      "source": [
        "def faktoriyel(sayi):\n",
        "    if sayi==1:\n",
        "        return 1\n",
        "    else:\n",
        "        return sayi * faktoriyel(sayi-1) \n",
        "\n",
        "\n",
        "def kombinasyon(n,r):\n",
        "  return faktoriyel(n)/(faktoriyel(n-r)*faktoriyel(r))\n",
        "\n",
        "erkekolmaihtimali = kombinasyon(4,3)\n",
        "print(\"Erkek olma ihtimali:\",erkekolmaihtimali)\n",
        "\n",
        "kizolmaihtimali = kombinasyon(5,3)\n",
        "print(\"\\nkiz olma ihtimali:\",kizolmaihtimali)\n",
        "\n",
        "tumuzay = kombinasyon(9,3)\n",
        "print(\"\\ntumuzay:\",tumuzay)\n",
        "\n",
        "bulunansonuc = (erkekolmaihtimali+kizolmaihtimali)/tumuzay\n",
        "print(\"\\nbulunan sonuc:\",bulunansonuc)"
      ],
      "metadata": {
        "id": "tXqFCaDr0uyf",
        "colab": {
          "base_uri": "https://localhost:8080/"
        },
        "outputId": "d0c77eda-71e0-4245-8fc2-70290721bc1a"
      },
      "execution_count": 1,
      "outputs": [
        {
          "output_type": "stream",
          "name": "stdout",
          "text": [
            "Erkek olma ihtimali: 4.0\n",
            "\n",
            "kiz olma ihtimali: 10.0\n",
            "\n",
            "tumuzay: 84.0\n",
            "\n",
            "bulunan sonuc: 0.16666666666666666\n"
          ]
        }
      ]
    }
  ]
}