{
  "nbformat": 4,
  "nbformat_minor": 0,
  "metadata": {
    "colab": {
      "name": "Homework3",
      "provenance": [],
      "authorship_tag": "ABX9TyN8p8TJW2mHC3MDxyqaN4NB",
      "include_colab_link": true
    },
    "kernelspec": {
      "name": "python3",
      "display_name": "Python 3"
    }
  },
  "cells": [
    {
      "cell_type": "markdown",
      "metadata": {
        "id": "view-in-github",
        "colab_type": "text"
      },
      "source": [
        "<a href=\"https://colab.research.google.com/github/yilmazdikilitas/ylmz/blob/master/Homework3.ipynb\" target=\"_parent\"><img src=\"https://colab.research.google.com/assets/colab-badge.svg\" alt=\"Open In Colab\"/></a>"
      ]
    },
    {
      "cell_type": "markdown",
      "metadata": {
        "id": "UNL6OCeyfVIc"
      },
      "source": [
        "Bir sepetteki meyvelerin %20si Elma, %45'i Armut geriye kalanını ise Portakalallardan oluşmaktadır.\n",
        "\n",
        "Elmaların %4'ü,Armutların %2'si,Portakalların %4'ü çürüktür.\n",
        "\n",
        "Sepetten alınan meyvenin çürük olduğu bilindiğine göre Elma olma olasılığı nedir?"
      ]
    },
    {
      "cell_type": "markdown",
      "metadata": {
        "id": "1Dt2dHRKhyzU"
      },
      "source": [
        "Olasılık Değeri = Elma Çürük /Toplam Çürük"
      ]
    },
    {
      "cell_type": "code",
      "metadata": {
        "id": "VXheYVFVh_ip",
        "colab": {
          "base_uri": "https://localhost:8080/",
          "height": 102
        },
        "outputId": "9e6356e9-232b-47c1-de7b-643f90a88191"
      },
      "source": [
        "Elma=0.2\n",
        "Armut=0.45\n",
        "Portakal=0.35\n",
        "\n",
        "Elmacuruk=0.04\n",
        "ArmutCuruk=0.02\n",
        "PortakalCuruk=0.04\n",
        "\n",
        "Elmacurukoran = Elma*Elmacuruk\n",
        "print(\"\\nElma Çürük Oranı \",str(Elmacurukoran))\n",
        "ArmutCurukoran = Armut*ArmutCuruk\n",
        "print(\"Armut Çürük Oranı \",str(ArmutCurukoran))\n",
        "PortakalCurukoran = Portakal*PortakalCuruk\n",
        "print(\"Portakal Çürük Oranı \",str(PortakalCurukoran))\n",
        "\n",
        "Olasilik=Elmacurukoran/(Elmacurukoran+ArmutCurukoran+PortakalCurukoran)\n",
        "\n",
        "print(\"Seçilen Çürüğün Elma Olma İhtimali \",str(Olasilik))"
      ],
      "execution_count": null,
      "outputs": [
        {
          "output_type": "stream",
          "text": [
            "\n",
            "Elma Çürük Oranı  0.008\n",
            "Armut Çürük Oranı  0.009000000000000001\n",
            "Portakal Çürük Oranı  0.013999999999999999\n",
            "Seçilen Çürüğün Elma Olma İhtimali  0.25806451612903225\n"
          ],
          "name": "stdout"
        }
      ]
    }
  ]
}