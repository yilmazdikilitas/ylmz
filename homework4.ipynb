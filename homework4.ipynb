{
  "nbformat": 4,
  "nbformat_minor": 0,
  "metadata": {
    "colab": {
      "name": "homework4",
      "provenance": [],
      "authorship_tag": "ABX9TyM2fJ1CBlI+oA9w91VUHEjw",
      "include_colab_link": true
    },
    "kernelspec": {
      "name": "python3",
      "display_name": "Python 3"
    }
  },
  "cells": [
    {
      "cell_type": "markdown",
      "metadata": {
        "id": "view-in-github",
        "colab_type": "text"
      },
      "source": [
        "<a href=\"https://colab.research.google.com/github/yilmazdikilitas/ylmz/blob/master/homework4.ipynb\" target=\"_parent\"><img src=\"https://colab.research.google.com/assets/colab-badge.svg\" alt=\"Open In Colab\"/></a>"
      ]
    },
    {
      "cell_type": "markdown",
      "metadata": {
        "id": "UNL6OCeyfVIc"
      },
      "source": [
        "Bir sepetteki meyvelerin %20si Elma, %45'i Armut geriye kalanını ise Portakalallardan oluşmaktadır.\n",
        "\n",
        "Elmaların %4'ü,Armutların %2'si,Portakalların %4'ü çürüktür.\n",
        "\n",
        "Sepetten alınan meyvenin çürük olduğu bilindiğine göre Elma olma olasılığı nedir?"
      ]
    },
    {
      "cell_type": "markdown",
      "metadata": {
        "id": "1Dt2dHRKhyzU"
      },
      "source": [
        "Olasılık Değeri = Elma Çürük /Toplam Çürük"
      ]
    },
    {
      "cell_type": "code",
      "metadata": {
        "id": "VXheYVFVh_ip",
        "colab": {
          "base_uri": "https://localhost:8080/",
          "height": 102
        },
        "outputId": "9e6356e9-232b-47c1-de7b-643f90a88191"
      },
      "source": [
        "Elma=0.2\n",
        "Armut=0.45\n",
        "Portakal=0.35\n",
        "\n",
        "Elmacuruk=0.04\n",
        "ArmutCuruk=0.02\n",
        "PortakalCuruk=0.04\n",
        "\n",
        "Elmacurukoran = Elma*Elmacuruk\n",
        "print(\"\\nElma Çürük Oranı \",str(Elmacurukoran))\n",
        "ArmutCurukoran = Armut*ArmutCuruk\n",
        "print(\"Armut Çürük Oranı \",str(ArmutCurukoran))\n",
        "PortakalCurukoran = Portakal*PortakalCuruk\n",
        "print(\"Portakal Çürük Oranı \",str(PortakalCurukoran))\n",
        "\n",
        "Olasilik=Elmacurukoran/(Elmacurukoran+ArmutCurukoran+PortakalCurukoran)\n",
        "\n",
        "print(\"Seçilen Çürüğün Elma Olma İhtimali \",str(Olasilik))"
      ],
      "execution_count": null,
      "outputs": [
        {
          "output_type": "stream",
          "text": [
            "\n",
            "Elma Çürük Oranı  0.008\n",
            "Armut Çürük Oranı  0.009000000000000001\n",
            "Portakal Çürük Oranı  0.013999999999999999\n",
            "Seçilen Çürüğün Elma Olma İhtimali  0.25806451612903225\n"
          ],
          "name": "stdout"
        }
      ]
    },
    {
      "cell_type": "markdown",
      "source": [
        "**BAYES TEOREMİ**\n",
        "\n",
        "Bir araştırmaya göre her 43 çocuktan 1 tanesi, yetişkinlikte ortaya çıkan belli bir hastalığa yakalanmakta ve tam güvenilir olmamasına rağmen yapılan test sonuçlarına göre, hastalıklı bir çocuğun testi %80 pozitif, sağlıklı bir çocuğun testi ise %10 pozitif sonuç vermektedir. Bu bilgilere göre test sonucu pozitif olan bir çocuğun gerçekten hasta olma olasılığı nedir?"
      ],
      "metadata": {
        "id": "mARpygGPw275"
      }
    },
    {
      "cell_type": "markdown",
      "source": [
        "P(A) : Çocuğun hasta olması olasılığı = 1/43\n",
        "\n",
        "P(B) : Testin pozitif çıkması olasılığı = 1/43 * 0.80 + 42/43 * 0.10 = 5/43\n",
        "\n",
        "P(A|B) : Pozitif çıkan testin hastalık çıkma olasılığı ( sorulan bu )\n",
        "\n",
        "P(B|A) : Hastalıklı çocuğun testinin pozitif çıkma olasılığı = 0.80\n",
        "\n",
        "P(A|B)=P(B|A)*P(A)/P(B) => (0.80 * 1/43) / (5/43) = 0.16 = %16 bulunur."
      ],
      "metadata": {
        "id": "0xkaLbi-xELA"
      }
    },
    {
      "cell_type": "code",
      "source": [
        "def bayes_theorem(A, AB, BA):\n",
        "  \n",
        "   Ad = 1 - A\n",
        "   \n",
        "   B = BA * A + BAd * Ad\n",
        " \n",
        "   AB = (BA * A) / B\n",
        "   return AB\n",
        "\n",
        "   \n",
        "#P(A)\n",
        "A = 1/43\n",
        "# P(B|A)\n",
        "BA = 0.80\n",
        "\n",
        "AB = 0.1\n",
        "# calculate P(A|B)\n",
        "result = bayes_theorem(A, AB, BA)\n",
        "# print result\n",
        "print('P(B|G) = %.2f%%' % (result * 100))"
      ],
      "metadata": {
        "colab": {
          "base_uri": "https://localhost:8080/"
        },
        "id": "hHbZlKP4xMA4",
        "outputId": "982a23e7-f29b-4d7d-9841-6b871bff0dc8"
      },
      "execution_count": null,
      "outputs": [
        {
          "output_type": "stream",
          "name": "stdout",
          "text": [
            "P(B|G) = 16.00%\n"
          ]
        }
      ]
    }
  ]
}