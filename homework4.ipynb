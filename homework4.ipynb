{
  "nbformat": 4,
  "nbformat_minor": 0,
  "metadata": {
    "colab": {
      "name": "homework4.ipynb",
      "provenance": [],
      "authorship_tag": "ABX9TyNtqjoC3JsPWarNlGVmJQAm",
      "include_colab_link": true
    },
    "kernelspec": {
      "name": "python3",
      "display_name": "Python 3"
    }
  },
  "cells": [
    {
      "cell_type": "markdown",
      "metadata": {
        "id": "view-in-github",
        "colab_type": "text"
      },
      "source": [
        "<a href=\"https://colab.research.google.com/github/yilmazdikilitas/ylmz/blob/master/homework4.ipynb\" target=\"_parent\"><img src=\"https://colab.research.google.com/assets/colab-badge.svg\" alt=\"Open In Colab\"/></a>"
      ]
    },
    {
      "cell_type": "markdown",
      "metadata": {
        "id": "JxsyTz5NOmVr"
      },
      "source": [
        "\n",
        "\n",
        "Bir öğrenci 5 şıklı ve 40 sorulu bir sınavda soruları rastgele cevaplıyor. 10 sorudan 3'ünü doğru yapma olasılığı nedir?\n",
        "\n",
        "Burada öğrencinin tek tek soruları doğru yapıp yapmaması gibi bir durum vardır. O halde tek bir olayın gerçekleşmesi ve öğrencinin soruyu yapma olasılığı olan p'yi tanımlayarak başlayalım.\n",
        "\n",
        "P= 1/5= 0.2\n",
        "\n",
        "Yani tek bir soruda gerçekleşmesine odaklanıyoruz çünkü binom dağılımı sorularında tek bir denemedeki p olasılığını bulmak çok önemlidir. Soruyu doğru yapmama olasılığı ise şu şekildedir:\n",
        "\n",
        "1-p= 0.8\n",
        "\n",
        "Bu soruda formül yazmadan mantık kullanılarak 10 sorudan 3'ünün olasılığının bulacağız. Diyelimki öğrenci ilk 3 soruyu doğru ve diğer soruları yanlış yapsın. Ancak doğru yapılan 3 sorunun farklı sıralamada olmasını dikkate alarak:\n",
        "\n",
        "![image.png](data:image/png;base64,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)\n",
        "\n",
        "\n"
      ]
    },
    {
      "cell_type": "code",
      "metadata": {
        "id": "amuc0wbZP_IO",
        "colab": {
          "base_uri": "https://localhost:8080/",
          "height": 34
        },
        "outputId": "101e2a49-51cb-47d8-d748-3162c8091d4a"
      },
      "source": [
        "import math\n",
        "def kombinasyon(n,r):\n",
        "  return math.factorial(n)/(math.factorial(r)*math.factorial(n-r))\n",
        "\n",
        "def binom (a,b,p):\n",
        "  return kombinasyon(a,b)*pow(p,b)*pow((1-p),(a-b))\n",
        "\n",
        "dogru_olasilik = 1/5\n",
        "print(binom(10,3,dogru_olasilik))"
      ],
      "execution_count": null,
      "outputs": [
        {
          "output_type": "stream",
          "text": [
            "0.2013265920000001\n"
          ],
          "name": "stdout"
        }
      ]
    }
  ]
}